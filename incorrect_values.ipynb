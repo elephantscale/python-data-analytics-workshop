{
 "cells": [
  {
   "cell_type": "code",
   "execution_count": 1,
   "id": "b2a78467",
   "metadata": {},
   "outputs": [
    {
     "data": {
      "text/html": [
       "<div>\n",
       "<style scoped>\n",
       "    .dataframe tbody tr th:only-of-type {\n",
       "        vertical-align: middle;\n",
       "    }\n",
       "\n",
       "    .dataframe tbody tr th {\n",
       "        vertical-align: top;\n",
       "    }\n",
       "\n",
       "    .dataframe thead th {\n",
       "        text-align: right;\n",
       "    }\n",
       "</style>\n",
       "<table border=\"1\" class=\"dataframe\">\n",
       "  <thead>\n",
       "    <tr style=\"text-align: right;\">\n",
       "      <th></th>\n",
       "      <th>ID</th>\n",
       "      <th>City</th>\n",
       "      <th>State</th>\n",
       "      <th>Zip</th>\n",
       "      <th>Title</th>\n",
       "      <th>RedactionRequested</th>\n",
       "    </tr>\n",
       "  </thead>\n",
       "  <tbody>\n",
       "    <tr>\n",
       "      <th>0</th>\n",
       "      <td>804</td>\n",
       "      <td>Glenview</td>\n",
       "      <td>IL</td>\n",
       "      <td>60025</td>\n",
       "      <td>Treasurer</td>\n",
       "      <td>False</td>\n",
       "    </tr>\n",
       "    <tr>\n",
       "      <th>1</th>\n",
       "      <td>9177</td>\n",
       "      <td>Harrisburg</td>\n",
       "      <td>IL</td>\n",
       "      <td>62946</td>\n",
       "      <td>Treasurer</td>\n",
       "      <td>False</td>\n",
       "    </tr>\n",
       "    <tr>\n",
       "      <th>2</th>\n",
       "      <td>53011</td>\n",
       "      <td>Chicago</td>\n",
       "      <td>IL</td>\n",
       "      <td>60606</td>\n",
       "      <td>Treasurer</td>\n",
       "      <td>False</td>\n",
       "    </tr>\n",
       "    <tr>\n",
       "      <th>3</th>\n",
       "      <td>9176</td>\n",
       "      <td>Harrisburg</td>\n",
       "      <td>IL</td>\n",
       "      <td>62946</td>\n",
       "      <td>Chairman</td>\n",
       "      <td>False</td>\n",
       "    </tr>\n",
       "    <tr>\n",
       "      <th>4</th>\n",
       "      <td>33020</td>\n",
       "      <td>Mechanicsburg</td>\n",
       "      <td>IL</td>\n",
       "      <td>62545</td>\n",
       "      <td>Chairman</td>\n",
       "      <td>False</td>\n",
       "    </tr>\n",
       "    <tr>\n",
       "      <th>...</th>\n",
       "      <td>...</td>\n",
       "      <td>...</td>\n",
       "      <td>...</td>\n",
       "      <td>...</td>\n",
       "      <td>...</td>\n",
       "      <td>...</td>\n",
       "    </tr>\n",
       "    <tr>\n",
       "      <th>55209</th>\n",
       "      <td>3559</td>\n",
       "      <td>Hillside</td>\n",
       "      <td>IL</td>\n",
       "      <td>60162</td>\n",
       "      <td>Chairman</td>\n",
       "      <td>False</td>\n",
       "    </tr>\n",
       "    <tr>\n",
       "      <th>55210</th>\n",
       "      <td>3558</td>\n",
       "      <td>Hillside</td>\n",
       "      <td>IL</td>\n",
       "      <td>60162</td>\n",
       "      <td>Treasurer</td>\n",
       "      <td>False</td>\n",
       "    </tr>\n",
       "    <tr>\n",
       "      <th>55211</th>\n",
       "      <td>23177</td>\n",
       "      <td>Harvard</td>\n",
       "      <td>IL</td>\n",
       "      <td>6033</td>\n",
       "      <td>Chairman</td>\n",
       "      <td>False</td>\n",
       "    </tr>\n",
       "    <tr>\n",
       "      <th>55212</th>\n",
       "      <td>23712</td>\n",
       "      <td>Chicago</td>\n",
       "      <td>IL</td>\n",
       "      <td>60637</td>\n",
       "      <td>Treasurer</td>\n",
       "      <td>False</td>\n",
       "    </tr>\n",
       "    <tr>\n",
       "      <th>55213</th>\n",
       "      <td>10509</td>\n",
       "      <td>Peru</td>\n",
       "      <td>IL</td>\n",
       "      <td>61354</td>\n",
       "      <td>Treasurer</td>\n",
       "      <td>False</td>\n",
       "    </tr>\n",
       "  </tbody>\n",
       "</table>\n",
       "<p>55214 rows × 6 columns</p>\n",
       "</div>"
      ],
      "text/plain": [
       "          ID           City State    Zip      Title  RedactionRequested\n",
       "0        804       Glenview    IL  60025  Treasurer               False\n",
       "1       9177     Harrisburg    IL  62946  Treasurer               False\n",
       "2      53011        Chicago    IL  60606  Treasurer               False\n",
       "3       9176     Harrisburg    IL  62946   Chairman               False\n",
       "4      33020  Mechanicsburg    IL  62545   Chairman               False\n",
       "...      ...            ...   ...    ...        ...                 ...\n",
       "55209   3559       Hillside    IL  60162   Chairman               False\n",
       "55210   3558       Hillside    IL  60162  Treasurer               False\n",
       "55211  23177        Harvard    IL   6033   Chairman               False\n",
       "55212  23712        Chicago    IL  60637  Treasurer               False\n",
       "55213  10509           Peru    IL  61354  Treasurer               False\n",
       "\n",
       "[55214 rows x 6 columns]"
      ]
     },
     "execution_count": 1,
     "metadata": {},
     "output_type": "execute_result"
    }
   ],
   "source": [
    "import pandas as pd\n",
    "\n",
    "file_url = 'https://raw.githubusercontent.com/fenago/MLEssentials/main/datasets/officers.csv'\n",
    "\n",
    "df = pd.read_csv (file_url)\n",
    "df"
   ]
  },
  {
   "cell_type": "code",
   "execution_count": 2,
   "id": "788aad68",
   "metadata": {},
   "outputs": [
    {
     "data": {
      "text/plain": [
       "array(['IL', 'PA', 'DC', 'Il', nan, 'WI', 'CA', 'MO', 'NC', 'IA', 'MA',\n",
       "       'IN', 'MI', 'TN', 'NY', 'ng', 'TX', 'CO', 'NV', 'il', 'WA', '8I',\n",
       "       'In', 'iL', 'OH', 'SC', 'VA', 'NM', 'FL', 'LA', 'GA', 'II', 'NJ',\n",
       "       'MD', 'I', 'AR', 'KS', 'DE', '60', 'SD', 'MN', 'VT', 'OK', 'KY',\n",
       "       'CT', 'NH', 'AZ', 'OR', 'PR', 'RI'], dtype=object)"
      ]
     },
     "execution_count": 2,
     "metadata": {},
     "output_type": "execute_result"
    }
   ],
   "source": [
    "df['State'].unique()"
   ]
  },
  {
   "cell_type": "code",
   "execution_count": 3,
   "id": "522b31e6",
   "metadata": {},
   "outputs": [
    {
     "name": "stdout",
     "output_type": "stream",
     "text": [
      "            City State\n",
      "43        Ottawa    Il\n",
      "44        Ottawa    Il\n",
      "493    Galesburg    Il\n",
      "613      Chicago    Il\n",
      "614      Chicago    Il\n",
      "...          ...   ...\n",
      "54915    Chicago    Il\n",
      "54916    Chicago    Il\n",
      "54918    Chicago    Il\n",
      "54919    Chicago    Il\n",
      "54921    Chicago    Il\n",
      "\n",
      "[665 rows x 2 columns]\n",
      "         City State\n",
      "7052  Wheaton    iL\n",
      "            City State\n",
      "43        Ottawa    Il\n",
      "44        Ottawa    Il\n",
      "493    Galesburg    Il\n",
      "613      Chicago    Il\n",
      "614      Chicago    Il\n",
      "...          ...   ...\n",
      "54915    Chicago    Il\n",
      "54916    Chicago    Il\n",
      "54918    Chicago    Il\n",
      "54919    Chicago    Il\n",
      "54921    Chicago    Il\n",
      "\n",
      "[665 rows x 2 columns]\n"
     ]
    }
   ],
   "source": [
    "for state in ['Il', 'iL', 'Il']:\n",
    "  print(df.loc[df['State'] == state, ['City', 'State']])"
   ]
  },
  {
   "cell_type": "code",
   "execution_count": 4,
   "id": "7274ffd5",
   "metadata": {},
   "outputs": [
    {
     "data": {
      "text/plain": [
       "672"
      ]
     },
     "execution_count": 4,
     "metadata": {},
     "output_type": "execute_result"
    }
   ],
   "source": [
    "# flag / mask\n",
    "il_mask = df['State'].isin(['il', 'Il', 'iL', 'Il'])\n",
    "il_mask.sum()"
   ]
  },
  {
   "cell_type": "code",
   "execution_count": 5,
   "id": "5a6b93cb",
   "metadata": {},
   "outputs": [],
   "source": [
    "df.loc[il_mask, 'State'] = 'IL'"
   ]
  },
  {
   "cell_type": "code",
   "execution_count": 6,
   "id": "b193a50f",
   "metadata": {},
   "outputs": [
    {
     "data": {
      "text/plain": [
       "array(['IL', 'PA', 'DC', nan, 'WI', 'CA', 'MO', 'NC', 'IA', 'MA', 'IN',\n",
       "       'MI', 'TN', 'NY', 'ng', 'TX', 'CO', 'NV', 'WA', '8I', 'In', 'OH',\n",
       "       'SC', 'VA', 'NM', 'FL', 'LA', 'GA', 'II', 'NJ', 'MD', 'I', 'AR',\n",
       "       'KS', 'DE', '60', 'SD', 'MN', 'VT', 'OK', 'KY', 'CT', 'NH', 'AZ',\n",
       "       'OR', 'PR', 'RI'], dtype=object)"
      ]
     },
     "execution_count": 6,
     "metadata": {},
     "output_type": "execute_result"
    }
   ],
   "source": [
    "df['State'].unique()"
   ]
  },
  {
   "cell_type": "code",
   "execution_count": null,
   "id": "266ef5c8",
   "metadata": {},
   "outputs": [],
   "source": []
  }
 ],
 "metadata": {
  "kernelspec": {
   "display_name": "Python 3 (ipykernel)",
   "language": "python",
   "name": "python3"
  },
  "language_info": {
   "codemirror_mode": {
    "name": "ipython",
    "version": 3
   },
   "file_extension": ".py",
   "mimetype": "text/x-python",
   "name": "python",
   "nbconvert_exporter": "python",
   "pygments_lexer": "ipython3",
   "version": "3.8.11"
  }
 },
 "nbformat": 4,
 "nbformat_minor": 5
}
